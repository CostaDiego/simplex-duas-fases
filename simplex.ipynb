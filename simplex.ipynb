{
 "cells": [
  {
   "cell_type": "markdown",
   "metadata": {},
   "source": [
    "# Método Simplex de Duas Fases"
   ]
  },
  {
   "cell_type": "markdown",
   "metadata": {},
   "source": [
    "#### Este notebook mostra o processo de desenvolvimento e aplicação do método simplex para resolução de problemas de programação linear, aos quais o objetivo seja minimizar ou maximizar o valor de uma função objetivo. Este algoritmo foi atualizado para ser capaz de resolver problemas cuja origem não faz parte das solução, o que é conhecido como método simplex de duas fases."
   ]
  },
  {
   "cell_type": "markdown",
   "metadata": {},
   "source": [
    "## Algoritmo Método Simplex de Duas Fases"
   ]
  },
  {
   "cell_type": "markdown",
   "metadata": {},
   "source": [
    "#### O Código abaixo mostra o processo de codificação do método Simplex de duas fases. Sendo que antes de cada célula há uma breve explicação a respeito do conteúdo subsequente."
   ]
  },
  {
   "cell_type": "markdown",
   "metadata": {},
   "source": [
    "Importa-se a biblioteca *numpy* que será usada para criação e manipulação das matrizes"
   ]
  },
  {
   "cell_type": "code",
   "execution_count": 4,
   "metadata": {},
   "outputs": [],
   "source": [
    "import numpy as np"
   ]
  },
  {
   "cell_type": "markdown",
   "metadata": {},
   "source": [
    "Neste momento, criaremos a função que gera o *tableoux*, que é a matriz que contém as restrições aplicáveis ao problema"
   ]
  },
  {
   "cell_type": "code",
   "execution_count": 5,
   "metadata": {},
   "outputs": [],
   "source": [
    "def gera_tableoux(var, restr):\n",
    "    \"\"\"Gera um Tableoux contendo as restrições\n",
    "    \n",
    "    Parâmetros:\n",
    "    var (int): Número de variáveis\n",
    "    restr (int): Número de restrições\n",
    "    \n",
    "    Retorna:\n",
    "    tableoux (numpy.ndarray): Tableoux\n",
    "    \"\"\"\n",
    "    tableoux = np.zeros((restr + 1, var + restr + 2))\n",
    "    return tableoux"
   ]
  },
  {
   "cell_type": "markdown",
   "metadata": {},
   "source": [
    "Agora, para inserirmos restrições no *tableoux*, será desenvolvido um método que processe uma *string* contendo a descrição de uma restrição. Foi escolhido deste modo por ser mais fácil de se entender o processo. Serão também desenvolvidas funções de apoio."
   ]
  },
  {
   "cell_type": "code",
   "execution_count": 6,
   "metadata": {},
   "outputs": [],
   "source": [
    "def _adic_restr(tableoux):\n",
    "    \"\"\"Checa se há espaço para que uma restrição seja inserida\n",
    "    \n",
    "    Parâmetros:\n",
    "    tableoux (numpy.ndarray): Tableou para verificação\n",
    "    \n",
    "    Retorna:\n",
    "    (Bool): - True, se houver espaço disponível\n",
    "            - False, se não houver espaço\n",
    "    \"\"\"\n",
    "    num_lin = len(tableoux[:,0])\n",
    "    espaco = 0\n",
    "\n",
    "    #Calcula-se quantas linhas com apenas 0 tem na matriz com excessão da primeira\n",
    "    for i in range(1,num_lin):\n",
    "        total = 0\n",
    "\n",
    "        #Verifica todas as linhas da matriz\n",
    "        for j in tableoux[i,:]:\n",
    "            #Soma-se seu valor absoluto para que os valores não se cancelem\n",
    "            total += abs(j)\n",
    "\n",
    "        #Caso tenha uma linha vazia, adiona-se à contagem\n",
    "        if total == 0:\n",
    "            espaco +=1\n",
    "\n",
    "    #Caso tenha ao menos um espaço, retorna True\n",
    "    if espaco >= 1:\n",
    "        return True\n",
    "\n",
    "    else:\n",
    "        return False\n",
    "    \n",
    "def restr(tableoux,restr):\n",
    "    \"\"\"Insere restrições no tableoux\n",
    "    \n",
    "    Parâmetros:\n",
    "    tableoux (numpy.ndarray): Tableou ao qual se deseja inserir restrições\n",
    "    restr (int): Restrição a ser inserida\n",
    "    \n",
    "    Retorna:\n",
    "    ---\n",
    "    \"\"\"\n",
    "    #Verifica se há espaço para se adicionar uma nova restrição\n",
    "    if _adic_restr(tableoux):\n",
    "        #Calcula-se a quantidade de linhas e colunas\n",
    "        num_col = len(tableoux[0,:])\n",
    "        num_lin = len(tableoux[:,0])\n",
    "        #Calcula a quantidade de variáveis de entrada\n",
    "        num_var = num_col - num_lin - 1\n",
    "\n",
    "        #Contador de linha\n",
    "        lin_cont = 1\n",
    "        \n",
    "        #Encotra a primeira linha vazia, que não seja a linha reservada 0\n",
    "        while lin_cont < num_lin:\n",
    "            verif_lin = tableoux[lin_cont,:]\n",
    "            total = 0\n",
    "            #Percorre as linhas da matriz\n",
    "            for i in verif_lin:\n",
    "                total += abs(i)\n",
    "\n",
    "            if total == 0:\n",
    "                linha = verif_lin\n",
    "\n",
    "\n",
    "    else:\n",
    "        print('O tableoux está cheio! Não é possivel adicionar outra restrição')\n"
   ]
  }
 ],
 "metadata": {
  "kernelspec": {
   "display_name": "lsa",
   "language": "python",
   "name": "lsa"
  },
  "language_info": {
   "codemirror_mode": {
    "name": "ipython",
    "version": 3
   },
   "file_extension": ".py",
   "mimetype": "text/x-python",
   "name": "python",
   "nbconvert_exporter": "python",
   "pygments_lexer": "ipython3",
   "version": "3.8.5-final"
  }
 },
 "nbformat": 4,
 "nbformat_minor": 4
}
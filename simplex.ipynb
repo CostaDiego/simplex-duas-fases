{
 "cells": [
  {
   "cell_type": "markdown",
   "metadata": {},
   "source": [
    "# Método Simplex de Duas Fases"
   ]
  },
  {
   "cell_type": "markdown",
   "metadata": {},
   "source": [
    "#### Este notebook mostra o processo de desenvolvimento e aplicação do método simplex para resolução de problemas de programação linear, aos quais o objetivo seja minimizar ou maximizar o valor de uma função objetivo. Este algoritmo foi atualizado para ser capaz de resolver problemas cuja origem não faz parte das solução, o que é conhecido como método simplex de duas fases."
   ]
  },
  {
   "cell_type": "markdown",
   "metadata": {},
   "source": [
    "## Algoritmo Método Simplex de Duas Fases"
   ]
  },
  {
   "source": [
    "#### O Código abaixo mostra o processo de codificação do método Simplex de duas fases. Sendo que antes de cada célula há uma breve explicação a respeito do conteúdo subsequente."
   ],
   "cell_type": "markdown",
   "metadata": {}
  },
  {
   "cell_type": "markdown",
   "metadata": {},
   "source": [
    "Importa-se a biblioteca *numpy* que será usada para criação e manipulação das matrizes"
   ]
  },
  {
   "cell_type": "code",
   "execution_count": 2,
   "metadata": {},
   "outputs": [],
   "source": [
    "import numpy as np"
   ]
  },
  {
   "cell_type": "markdown",
   "metadata": {},
   "source": [
    "Neste momento, criaremos a função que gera o *tableoux*, que é a matriz que contém as restrições aplicáveis ao problema"
   ]
  },
  {
   "cell_type": "code",
   "execution_count": 4,
   "metadata": {},
   "outputs": [],
   "source": [
    "def gera_tableoux(var, restr):\n",
    "    \"\"\"Gera um Tableoux contendo as restrições\n",
    "    \n",
    "    Parâmetros:\n",
    "    var (int): Número de variáveis\n",
    "    restr (int): Número de restrições\n",
    "    \n",
    "    Retorna:\n",
    "    tableoux (numpy.ndarray): Tableoux\n",
    "    \"\"\"\n",
    "    tableoux = np.zeros((restr + 1, var + restr + 2))\n",
    "    return tableoux"
   ]
  },
  {
   "cell_type": "markdown",
   "metadata": {},
   "source": [
    "Agora, para inserirmos restrições no *tableoux*, será desenvolvido um método que processe uma *string* contendo a descrição de uma restrição. Foi escolhido deste modo por ser mais fácil de se entender o processo. Serão também desenvolvidas funções de apoio."
   ]
  },
  {
   "cell_type": "code",
   "execution_count": null,
   "metadata": {},
   "outputs": [],
   "source": [
    "def _adic_restr(tableoux):\n",
    "    \"\"\"Checa se há espaço para que uma restrição seja inserida\n",
    "    \n",
    "    Parâmetros:\n",
    "    tableoux (numpy.ndarray): Tableou para verificação\n",
    "    \n",
    "    Retorna:\n",
    "    (Bool): - True, se houver espaço disponível\n",
    "            - False, se não houver espaço\n",
    "    \"\"\"\n",
    "    num_lin = len(tableoux[:,0])\n",
    "    espaco = 0\n",
    "\n",
    "    for i in range(1,num_lin):\n",
    "        total = 0\n",
    "        for j in tableoux[i,:]:\n",
    "            total = abs(j)\n",
    "\n",
    "\n",
    "\n",
    "\n",
    "    \n",
    "def restr(tableoux,restr):\n",
    "    \"\"\"Insere restrições no tableoux\n",
    "    \n",
    "    Parâmetros:\n",
    "    tableoux (numpy.ndarray): Tableou ao qual se deseja inserir restrições\n",
    "    restr (int): Restrição a ser inserida\n",
    "    \n",
    "    Retorna:\n",
    "    ---\n",
    "    \"\"\"\n",
    "    pass\n"
   ]
  }
 ],
 "metadata": {
  "kernelspec": {
   "display_name": "PO",
   "language": "python",
   "name": "po"
  },
  "language_info": {
   "codemirror_mode": {
    "name": "ipython",
    "version": 3
   },
   "file_extension": ".py",
   "mimetype": "text/x-python",
   "name": "python",
   "nbconvert_exporter": "python",
   "pygments_lexer": "ipython3",
   "version": "3.9.1"
  }
 },
 "nbformat": 4,
 "nbformat_minor": 4
}